{
 "cells": [
  {
   "cell_type": "code",
   "execution_count": null,
   "metadata": {},
   "outputs": [],
   "source": [
    "// This is a simple Java program\n",
    "System.out.println(\"Hello, IJava Kernel here!\");"
   ]
  }
 ],
 "metadata": {
  "kernelspec": {
   "display_name": "Java",
   "language": "java",
   "name": "java"
  },
  "language_info": {
   "file_extension": ".java",
   "mimetype": "text/x-java-source",
   "name": "java"
  }
 },
 "nbformat": 4,
 "nbformat_minor": 4
}
