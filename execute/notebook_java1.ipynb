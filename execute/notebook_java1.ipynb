{
 "cells": [
  {
   "cell_type": "code",
   "execution_count": null,
   "metadata": {
    "vscode": {
     "languageId": "plaintext"
    }
   },
   "outputs": [],
   "source": [
    "%%writefile HelloWorld.java\n",
    "public class HelloWorld {\n",
    "    public static void main(String[] args) {\n",
    "        System.out.println(\"Hello, Jupyter!\");\n",
    "    }\n",
    "}"
   ]
  },
  {
   "cell_type": "code",
   "execution_count": null,
   "metadata": {
    "vscode": {
     "languageId": "plaintext"
    }
   },
   "outputs": [],
   "source": [
    "!javac HelloWorld.java\n",
    "!java HelloWorld"
   ]
  },
  {
   "cell_type": "code",
   "execution_count": null,
   "metadata": {
    "vscode": {
     "languageId": "plaintext"
    }
   },
   "outputs": [],
   "source": [
    "%%writefile HelloWorld1.java\n",
    "// Simple Java Code\n",
    "\n",
    "import java.util.Arrays;\n",
    "\n",
    "public class HelloWorld1 {\n",
    "    public static void main(String[] args) {\n",
    "\n",
    "// Create an array\n",
    "int[] array = {1, 2, 3, 4, 5};\n",
    "\n",
    "// Shuffle the array\n",
    "for (int i = array.length - 1; i > 0; i--) {\n",
    "    int j = (int) (Math.random() * (i + 1));\n",
    "    // Swap\n",
    "    int temp = array[i];\n",
    "    array[i] = array[j];\n",
    "    array[j] = temp;\n",
    "}\n",
    "\n",
    "// Print the shuffled array\n",
    "System.out.println(\"Arrays to String:\" + Arrays.toString(array));\n",
    "\n",
    "    }\n",
    "}"
   ]
  },
  {
   "cell_type": "code",
   "execution_count": null,
   "metadata": {
    "vscode": {
     "languageId": "plaintext"
    }
   },
   "outputs": [],
   "source": [
    "!javac HelloWorld1.java\n",
    "!java HelloWorld1"
   ]
  }
 ],
 "metadata": {
  "language_info": {
   "name": "python"
  }
 },
 "nbformat": 4,
 "nbformat_minor": 2
}
