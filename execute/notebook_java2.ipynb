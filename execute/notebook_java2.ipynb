{
 "cells": [
  {
   "cell_type": "code",
   "execution_count": null,
   "metadata": {},
   "outputs": [],
   "source": [
    "// https://gist.github.com/tueda/a200b3f747d0fc864be8b4dd09be5a1e\n",
    "System.out.println(\"Hello IJava  world!\");"
   ]
  },
  {
   "cell_type": "code",
   "execution_count": null,
   "metadata": {},
   "outputs": [],
   "source": [
    "%maven org.knowm.xchart:xchart:3.5.2\n",
    "import org.knowm.xchart.*;\n",
    "\n",
    "double[] xData = new double[] { 0.0, 1.0, 2.0 };\n",
    "double[] yData = new double[] { 2.0, 1.0, 0.0 };\n",
    "\n",
    "XYChart chart = QuickChart.getChart(\"Sample Chart\", \"X\", \"Y\", \"y(x)\", xData, yData);\n",
    "\n",
    "BitmapEncoder.getBufferedImage(chart);"
   ]
  }
 ],
 "metadata": {
  "kernelspec": {
   "display_name": "Java",
   "language": "java",
   "name": "java"
  },
  "language_info": {
   "name": "java",
   "version": "21"
  }
 },
 "nbformat": 4,
 "nbformat_minor": 4
}
