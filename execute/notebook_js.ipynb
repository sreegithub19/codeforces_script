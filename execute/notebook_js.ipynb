{
    "cells": [
     {
      "cell_type": "code",
      "execution_count": null,
      "metadata": {},
      "outputs": [],
      "source": [
       "// Simple Node.js Code\n",
       "\n",
       "let sum = 0;\n",
       "for (let i = 0; i < 10; i++) {\n",
       "    sum += i;\n",
       "}\n",
       "\n",
       "sum;  // Output the sum of the first 10 natural numbers"
      ]
     },
     {
      "cell_type": "markdown",
      "metadata": {},
      "source": [
       "# Simple Jupyter Notebook with Node.js\n",
       "\n",
       "This notebook demonstrates a simple Node.js code snippet that calculates the sum of the first 10 natural numbers."
      ]
     }
    ],
    "metadata": {
     "kernelspec": {
      "display_name": "Node.js",
      "language": "javascript",
      "name": "javascript"
     },
     "language_info": {
      "codemirror_mode": {
       "name": "javascript",
       "version": 3
      },
      "file_extension": ".js",
      "mimetype": "text/javascript",
      "name": "javascript",
      "nbconvert_exporter": "javascript",
      "pygments_lexer": "javascript",
      "version": "v18"
     }
    },
    "nbformat": 4,
    "nbformat_minor": 4
   }
   