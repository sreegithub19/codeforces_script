{
 "cells": [
  {
   "cell_type": "code",
   "execution_count": null,
   "metadata": {},
   "outputs": [],
   "source": [
    "// Simple Java Code\n",
    "\n",
    "import java.util.Arrays;\n",
    "\n",
    "// Create an array\n",
    "int[] array = {1, 2, 3, 4, 5};\n",
    "\n",
    "// Shuffle the array\n",
    "for (int i = array.length - 1; i > 0; i--) {\n",
    "    int j = (int) (Math.random() * (i + 1));\n",
    "    // Swap\n",
    "    int temp = array[i];\n",
    "    array[i] = array[j];\n",
    "    array[j] = temp;\n",
    "}\n",
    "\n",
    "// Print the shuffled array\n",
    "System.out.println(Arrays.toString(array));\n"
   ]
  },
  {
   "cell_type": "code",
   "execution_count": null,
   "metadata": {},
   "outputs": [],
   "source": [
    "String md = \"Hello from **IJava**\";\n",
    "render(md, \"text/markdown\")\n",
    "\n",
    "display(\"alert('Hello from IJava!');\", \"application/javascript\");\n",
    "\n",
    "display(\"<b>Bold</b>\", \"text/html\", \"text/markdown\");\n",
    "\n",
    "display(\"document.write('Hello from IJava!');\", \"application/javascript\");"
   ]
  },
  {
   "cell_type": "markdown",
   "metadata": {},
   "source": [
    "# Simple Jupyter Notebook with Java\n",
    "\n",
    "This notebook demonstrates basic Java code to shuffle an array and print the result."
   ]
  }
 ],
 "metadata": {
  "kernelspec": {
   "display_name": "Java",
   "language": "java",
   "name": "java"
  },
  "language_info": {
   "name": "java",
   "version": "21"
  }
 },
 "nbformat": 4,
 "nbformat_minor": 4
}
