{
 "cells": [
  {
   "cell_type": "code",
   "execution_count": null,
   "metadata": {},
   "outputs": [],
   "source": [
    "// Simple Java Code\n",
    "\n",
    "import java.util.Arrays;\n",
    "\n",
    "// Create an array\n",
    "int[] array = {1, 2, 3, 4, 5};\n",
    "\n",
    "// Shuffle the array\n",
    "for (int i = array.length - 1; i > 0; i--) {\n",
    "    int j = (int) (Math.random() * (i + 1));\n",
    "    // Swap\n",
    "    int temp = array[i];\n",
    "    array[i] = array[j];\n",
    "    array[j] = temp;\n",
    "}\n",
    "\n",
    "// Print the shuffled array\n",
    "System.out.println(Arrays.toString(array));\n"
   ]
  },
  {
   "cell_type": "code",
   "execution_count": null,
   "metadata": {},
   "outputs": [],
   "source": [
    "String md = \"Hello from **IJava**\";\n",
    "render(md, \"text/markdown\")"
   ]
  },
  {
   "cell_type": "code",
   "execution_count": null,
   "metadata": {},
   "outputs": [],
   "source": [
    "// HTML content as a string\n",
    "String htmlContent = \"<h1>Hello from IJava!</h1>\"\n",
    "                     +\"<p>This is an example of rendering HTML in a Java cell.</p>\"\n",
    "                     +\"<ul><li>Item 1</li><li>Item 2</li><li>Item 3</li></ul>\"\n",
    "                     ;\n",
    "\n",
    "// Use the render function to display the HTML content\n",
    "render(htmlContent , \"text/html\");"
   ]
  },
  {
   "cell_type": "code",
   "execution_count": null,
   "metadata": {},
   "outputs": [],
   "source": [
    "// HTML content as a string\n",
    "String htmlContent = \"<h1 style='color:red; font-weight:bold;'>Hello again from IJava!</h1>\"\n",
    "                     +\"<script>document.write('222 in js') ; alert('222 in js');</script>\"\n",
    "                     ;\n",
    "\n",
    "// Use the render function to display the HTML content\n",
    "render(htmlContent , \"text/html\");"
   ]
  },
  {
   "cell_type": "markdown",
   "metadata": {},
   "source": [
    "# Simple Jupyter Notebook with Java\n",
    "\n",
    "This notebook demonstrates basic Java code to shuffle an array and print the result."
   ]
  }
 ],
 "metadata": {
  "kernelspec": {
   "display_name": "Java",
   "language": "java",
   "name": "java"
  },
  "language_info": {
   "name": "java",
   "version": "21"
  }
 },
 "nbformat": 4,
 "nbformat_minor": 4
}
