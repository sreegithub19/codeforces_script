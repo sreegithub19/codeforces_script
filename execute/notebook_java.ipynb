{
    "cells": [
     {
      "cell_type": "code",
      "execution_count": null,
      "metadata": {},
      "outputs": [],
      "source": [
       "// Simple Java Code\n",
       "\n",
       "import java.util.Arrays;\n",
       "\n",
       "public class Main {\n",
       "    public static void main(String[] args) {\n",
       "        int[] array = {1, 2, 3, 4, 5};\n",
       "        // Shuffle the array\n",
       "        for (int i = array.length - 1; i > 0; i--) {\n",
       "            int j = (int) (Math.random() * (i + 1));\n",
       "            // Swap\n",
       "            int temp = array[i];\n",
       "            array[i] = array[j];\n",
       "            array[j] = temp;\n",
       "        }\n",
       "        System.out.println(Arrays.toString(array)); // Print the shuffled array\n",
       "    }\n",
       "}\n"
      ]
     },
     {
      "cell_type": "markdown",
      "metadata": {},
      "source": [
       "# Simple Jupyter Notebook with Java\n",
       "\n",
       "This notebook demonstrates basic Java code to shuffle an array and print the result."
      ]
     }
    ],
    "metadata": {
     "kernelspec": {
      "display_name": "Java",
      "language": "java",
      "name": "java"
     },
     "language_info": {
      "name": "java",
      "version": "21"
     }
    },
    "nbformat": 4,
    "nbformat_minor": 4
   }
   